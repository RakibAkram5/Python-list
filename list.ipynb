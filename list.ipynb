{
 "cells": [
  {
   "cell_type": "code",
   "execution_count": 1,
   "id": "797125db-4161-43cf-974e-fe1df938a72a",
   "metadata": {},
   "outputs": [
    {
     "name": "stdout",
     "output_type": "stream",
     "text": [
      "Rakib\n",
      "Rafay\n",
      "Khadija\n",
      "Ameena\n",
      "Ayesha\n"
     ]
    }
   ],
   "source": [
    "name = [\"Rakib\", \"Rafay\", \"Khadija\", \"Ameena\", \"Ayesha\"]\n",
    "print(name[0])\n",
    "print(name[1])\n",
    "print(name[2])\n",
    "print(name[3])\n",
    "print(name[4])"
   ]
  },
  {
   "cell_type": "code",
   "execution_count": 2,
   "id": "4900a729-6cdd-41fc-b03d-d2a3514e203b",
   "metadata": {},
   "outputs": [
    {
     "name": "stdout",
     "output_type": "stream",
     "text": [
      "\n",
      "Hello, Rakib! Hope you are fine.\n",
      "Hello, Rafay! Hope you are fine.\n",
      "Hello, Khadija! Hope you are fine.\n",
      "Hello, Ameena! Hope you are fine.\n",
      "Hello, Ayesha! Hope you are fine.\n"
     ]
    }
   ],
   "source": [
    "print(f\"\\nHello, {name[0]}! Hope you are fine.\")\n",
    "print(f\"Hello, {name[1]}! Hope you are fine.\")\n",
    "print(f\"Hello, {name[2]}! Hope you are fine.\")\n",
    "print(f\"Hello, {name[3]}! Hope you are fine.\")\n",
    "print(f\"Hello, {name[4]}! Hope you are fine.\")"
   ]
  },
  {
   "cell_type": "code",
   "execution_count": 3,
   "id": "1329810d-4b72-49a8-913a-a4206cb8429d",
   "metadata": {},
   "outputs": [
    {
     "name": "stdout",
     "output_type": "stream",
     "text": [
      "\n",
      "I would Like to own a Bus mode\n"
     ]
    }
   ],
   "source": [
    "tranportation_mode=[\"Car\",\"Bus\",\"Bike\",\"Train\"]\n",
    "print(f\"\\nI would Like to own a {tranportation_mode[1]} mode\")"
   ]
  },
  {
   "cell_type": "code",
   "execution_count": 4,
   "id": "7b6025bc-0b18-43ec-b47d-fa674f77f489",
   "metadata": {},
   "outputs": [
    {
     "name": "stdout",
     "output_type": "stream",
     "text": [
      "\n",
      "Rafay, I would be honored to have you join me for dinner.\n",
      "\n",
      "Ameena, I would be honored to have you join me for dinner.\n",
      "\n",
      "Khadija, I would be honored to have you join me for dinner.\n"
     ]
    }
   ],
   "source": [
    "dinner_guest=[\"Rafay\",\"Ameena\",\"Khadija\"]\n",
    "print(f\"\\n{dinner_guest[0]}, I would be honored to have you join me for dinner.\")\n",
    "print(f\"\\n{dinner_guest[1]}, I would be honored to have you join me for dinner.\")\n",
    "print(f\"\\n{dinner_guest[2]}, I would be honored to have you join me for dinner.\")"
   ]
  },
  {
   "cell_type": "code",
   "execution_count": 5,
   "id": "586b9a88-b376-4041-954d-b4c0d7e507ce",
   "metadata": {},
   "outputs": [
    {
     "name": "stdout",
     "output_type": "stream",
     "text": [
      "\n",
      "Sorry Rafay can't make it to dinner.\n",
      "\n",
      "Ayesha, I would be honored to have you join me for dinner.\n"
     ]
    }
   ],
   "source": [
    "unable_to_attend=dinner_guest[0]\n",
    "print(f\"\\nSorry {unable_to_attend} can't make it to dinner.\")\n",
    "dinner_guest[0]=\"Ayesha\"\n",
    "print(f\"\\n{dinner_guest[0]}, I would be honored to have you join me for dinner.\")\n"
   ]
  },
  {
   "cell_type": "code",
   "execution_count": 6,
   "id": "66b75a02-f6fd-45c3-8623-bc1ac29e966a",
   "metadata": {},
   "outputs": [
    {
     "name": "stdout",
     "output_type": "stream",
     "text": [
      "\n",
      "Good news! I found a bigger table, so now I can invite more guests!\n",
      "\n",
      "Rafay, I would be honored to have you join me for dinner.\n",
      "\n",
      "Ayesha, I would be honored to have you join me for dinner.\n",
      "\n",
      "Rakib, I would be honored to have you join me for dinner.\n",
      "\n",
      "Ameena, I would be honored to have you join me for dinner.\n",
      "\n",
      "Khadija, I would be honored to have you join me for dinner.\n",
      "\n",
      "Ayesha, I would be honored to have you join me for dinner.\n"
     ]
    }
   ],
   "source": [
    "dinner_guest = [\"Ayesha\", \"Ameena\", \"Khadija\"]\n",
    "\n",
    "print(\"\\nGood news! I found a bigger table, so now I can invite more guests!\")\n",
    "dinner_guest.insert(0, \"Rafay\")\n",
    "middle_index = len(dinner_guest) // 2\n",
    "dinner_guest.insert(middle_index, \"Rakib\")\n",
    "dinner_guest.append(\"Ayesha\")\n",
    "print(f\"\\n{dinner_guest[0]}, I would be honored to have you join me for dinner.\")\n",
    "print(f\"\\n{dinner_guest[1]}, I would be honored to have you join me for dinner.\")\n",
    "print(f\"\\n{dinner_guest[2]}, I would be honored to have you join me for dinner.\")\n",
    "print(f\"\\n{dinner_guest[3]}, I would be honored to have you join me for dinner.\")\n",
    "print(f\"\\n{dinner_guest[4]}, I would be honored to have you join me for dinner.\")\n",
    "print(f\"\\n{dinner_guest[5]}, I would be honored to have you join me for dinner.\")\n"
   ]
  },
  {
   "cell_type": "code",
   "execution_count": 7,
   "id": "81f95406-77e4-494d-846a-d1cd56a03113",
   "metadata": {},
   "outputs": [
    {
     "name": "stdout",
     "output_type": "stream",
     "text": [
      "\n",
      "Unfortunately, I can only invite two people for dinner.\n",
      "\n",
      "Sorry Ayesha, I can't invite you to dinner.\n",
      "\n",
      "Sorry Khadija, I can't invite you to dinner.\n",
      "\n",
      "Sorry Rakib, I can't invite you to dinner.\n",
      "\n",
      "Sorry Ameena, I can't invite you to dinner.\n",
      "\n",
      "Rafay, you are still invited to dinner.\n",
      "\n",
      "Ayesha, you are still invited to dinner.\n",
      "\n",
      "Final guest list: []\n"
     ]
    }
   ],
   "source": [
    "dinner_guest = [\"Rafay\", \"Ayesha\", \"Ameena\", \"Rakib\", \"Khadija\", \"Ayesha\"]\n",
    "\n",
    "print(\"\\nUnfortunately, I can only invite two people for dinner.\")\n",
    "\n",
    "removed_guest = dinner_guest.pop()\n",
    "print(f\"\\nSorry {removed_guest}, I can't invite you to dinner.\")\n",
    "\n",
    "removed_guest = dinner_guest.pop()\n",
    "print(f\"\\nSorry {removed_guest}, I can't invite you to dinner.\")\n",
    "\n",
    "removed_guest = dinner_guest.pop()\n",
    "print(f\"\\nSorry {removed_guest}, I can't invite you to dinner.\")\n",
    "\n",
    "removed_guest = dinner_guest.pop()\n",
    "print(f\"\\nSorry {removed_guest}, I can't invite you to dinner.\")\n",
    "\n",
    "print(f\"\\n{dinner_guest[0]}, you are still invited to dinner.\")\n",
    "print(f\"\\n{dinner_guest[1]}, you are still invited to dinner.\")\n",
    "\n",
    "del dinner_guest[0]\n",
    "del dinner_guest[0]\n",
    "\n",
    "print(\"\\nFinal guest list:\", dinner_guest)\n"
   ]
  },
  {
   "cell_type": "code",
   "execution_count": 8,
   "id": "f9edd259-00d5-4d4b-888e-f9eaa746ec20",
   "metadata": {},
   "outputs": [
    {
     "name": "stdout",
     "output_type": "stream",
     "text": [
      "Original list: ['Paris', 'Tokyo', 'New York', 'Cape Town', 'Sydney']\n",
      "Alphabetical order: ['Cape Town', 'New York', 'Paris', 'Sydney', 'Tokyo']\n",
      "Original list (unchanged): ['Paris', 'Tokyo', 'New York', 'Cape Town', 'Sydney']\n",
      "Reverse-alphabetical order: ['Tokyo', 'Sydney', 'Paris', 'New York', 'Cape Town']\n",
      "Original list (unchanged): ['Paris', 'Tokyo', 'New York', 'Cape Town', 'Sydney']\n",
      "List after reverse(): ['Sydney', 'Cape Town', 'New York', 'Tokyo', 'Paris']\n",
      "List after reversing again: ['Paris', 'Tokyo', 'New York', 'Cape Town', 'Sydney']\n",
      "List after sort(): ['Cape Town', 'New York', 'Paris', 'Sydney', 'Tokyo']\n",
      "List after sort(reverse=True): ['Tokyo', 'Sydney', 'Paris', 'New York', 'Cape Town']\n",
      "Original list: ['Paris', 'Tokyo', 'New York', 'Cape Town', 'Sydney']\n",
      "Alphabetical order: ['Cape Town', 'New York', 'Paris', 'Sydney', 'Tokyo']\n",
      "Original list (unchanged): ['Paris', 'Tokyo', 'New York', 'Cape Town', 'Sydney']\n",
      "Reverse-alphabetical order: ['Tokyo', 'Sydney', 'Paris', 'New York', 'Cape Town']\n",
      "Original list (unchanged): ['Paris', 'Tokyo', 'New York', 'Cape Town', 'Sydney']\n",
      "List after reverse(): ['Sydney', 'Cape Town', 'New York', 'Tokyo', 'Paris']\n",
      "List after reversing again: ['Paris', 'Tokyo', 'New York', 'Cape Town', 'Sydney']\n",
      "List after sort(): ['Cape Town', 'New York', 'Paris', 'Sydney', 'Tokyo']\n",
      "List after sort(reverse=True): ['Tokyo', 'Sydney', 'Paris', 'New York', 'Cape Town']\n",
      "List after append(): ['Tokyo', 'Sydney', 'Paris', 'New York', 'Cape Town', 'Los Angeles']\n",
      "List after insert(): ['Berlin', 'Tokyo', 'Sydney', 'Paris', 'New York', 'Cape Town', 'Los Angeles']\n",
      "Removed city: Los Angeles\n",
      "List after pop(): ['Berlin', 'Tokyo', 'Sydney', 'Paris', 'New York', 'Cape Town']\n",
      "List after remove(): ['Berlin', 'Sydney', 'Paris', 'New York', 'Cape Town']\n",
      "List after del: ['Sydney', 'Paris', 'New York', 'Cape Town']\n",
      "List after clear(): []\n"
     ]
    }
   ],
   "source": [
    "places = [\"Paris\", \"Tokyo\", \"New York\", \"Cape Town\", \"Sydney\"]\n",
    "\n",
    "print(\"Original list:\", places)\n",
    "print(\"Alphabetical order:\", sorted(places))\n",
    "print(\"Original list (unchanged):\", places)\n",
    "print(\"Reverse-alphabetical order:\", sorted(places, reverse=True))\n",
    "print(\"Original list (unchanged):\", places)\n",
    "\n",
    "places.reverse()\n",
    "print(\"List after reverse():\", places)\n",
    "\n",
    "places.reverse()\n",
    "print(\"List after reversing again:\", places)\n",
    "\n",
    "places.sort()\n",
    "print(\"List after sort():\", places)\n",
    "\n",
    "places.sort(reverse=True)\n",
    "print(\"List after sort(reverse=True):\", places)\n",
    "\n",
    "# Task 9\n",
    "cities = [\"Paris\", \"Tokyo\", \"New York\", \"Cape Town\", \"Sydney\"]\n",
    "\n",
    "print(\"Original list:\", cities)\n",
    "print(\"Alphabetical order:\", sorted(cities))\n",
    "print(\"Original list (unchanged):\", cities)\n",
    "print(\"Reverse-alphabetical order:\", sorted(cities, reverse=True))\n",
    "print(\"Original list (unchanged):\", cities)\n",
    "\n",
    "cities.reverse()\n",
    "print(\"List after reverse():\", cities)\n",
    "\n",
    "cities.reverse()\n",
    "print(\"List after reversing again:\", cities)\n",
    "\n",
    "cities.sort()\n",
    "print(\"List after sort():\", cities)\n",
    "\n",
    "cities.sort(reverse=True)\n",
    "print(\"List after sort(reverse=True):\", cities)\n",
    "\n",
    "cities.append(\"Los Angeles\")\n",
    "print(\"List after append():\", cities)\n",
    "\n",
    "cities.insert(0, \"Berlin\")\n",
    "print(\"List after insert():\", cities)\n",
    "\n",
    "removed_city = cities.pop()\n",
    "print(\"Removed city:\", removed_city)\n",
    "print(\"List after pop():\", cities)\n",
    "\n",
    "cities.remove(\"Tokyo\")\n",
    "print(\"List after remove():\", cities)\n",
    "\n",
    "del cities[0]\n",
    "print(\"List after del:\", cities)\n",
    "\n",
    "cities.clear()\n",
    "print(\"List after clear():\", cities)\n"
   ]
  },
  {
   "cell_type": "code",
   "execution_count": 9,
   "id": "4ff59aad-dd8c-4b3c-8b33-441cea360834",
   "metadata": {},
   "outputs": [
    {
     "name": "stdout",
     "output_type": "stream",
     "text": [
      "IndexError: list index out of range\n",
      "Accessing a valid index: New York\n"
     ]
    }
   ],
   "source": [
    "cities = [\"Paris\", \"Tokyo\", \"New York\", \"Cape Town\", \"Sydney\"]\n",
    "\n",
    "# Attempt to access an index that does not exist\n",
    "try:\n",
    "    print(cities[10])  # This will cause an IndexError\n",
    "except IndexError as e:\n",
    "    print(\"IndexError:\", e)\n",
    "\n",
    "# Correct the error by accessing a valid index\n",
    "print(\"Accessing a valid index:\", cities[2])  # This should work\n"
   ]
  }
 ],
 "metadata": {
  "kernelspec": {
   "display_name": "Python 3 (ipykernel)",
   "language": "python",
   "name": "python3"
  },
  "language_info": {
   "codemirror_mode": {
    "name": "ipython",
    "version": 3
   },
   "file_extension": ".py",
   "mimetype": "text/x-python",
   "name": "python",
   "nbconvert_exporter": "python",
   "pygments_lexer": "ipython3",
   "version": "3.12.4"
  }
 },
 "nbformat": 4,
 "nbformat_minor": 5
}
